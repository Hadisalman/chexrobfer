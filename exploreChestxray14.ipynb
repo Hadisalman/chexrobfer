{
 "cells": [
  {
   "cell_type": "code",
   "execution_count": 27,
   "id": "fc503c8e-fd78-41bb-b354-51e0625c2a99",
   "metadata": {},
   "outputs": [],
   "source": [
    "from robustness import model_utils, datasets, defaults, train\n",
    "from robustness.loaders import LambdaLoader\n",
    "import torch as ch\n",
    "import torch\n",
    "import torchvision\n",
    "from torch.utils.data import DataLoader\n",
    "import matplotlib.pyplot as plt\n",
    "import numpy as np\n",
    "from torchvision import transforms\n",
    "import sys\n",
    "# sys.path.append('../')\n",
    "from read_data import ChestXrayDataSet\n",
    "from sklearn.metrics import roc_auc_score\n",
    "from robustness.tools.vis_tools import show_image_column, show_image_row\n"
   ]
  },
  {
   "cell_type": "code",
   "execution_count": 5,
   "id": "3ba83ef9-bced-4b43-bad3-871f942fe951",
   "metadata": {},
   "outputs": [],
   "source": [
    "N_CLASSES = 14\n",
    "CLASS_NAMES = [ 'Atelectasis', 'Cardiomegaly', 'Effusion', 'Infiltration', 'Mass', 'Nodule', 'Pneumonia',\n",
    "                'Pneumothorax', 'Consolidation', 'Edema', 'Emphysema', 'Fibrosis', 'Pleural_Thickening', 'Hernia']\n",
    "DATA_DIR = './ChestX-ray14/images'\n",
    "\n",
    "TRAIN_IMAGE_LIST = './ChestX-ray14/labels/train_list.txt'\n",
    "VAL_IMAGE_LIST = './ChestX-ray14/labels/val_list.txt'\n",
    "TEST_IMAGE_LIST = './ChestX-ray14/labels/test_list.txt'\n",
    "\n",
    "BATCH_SIZE = 4"
   ]
  },
  {
   "cell_type": "code",
   "execution_count": 6,
   "id": "9f6c1b36-d4b4-45f8-990a-2cf0d4af1528",
   "metadata": {},
   "outputs": [],
   "source": [
    "normalize = transforms.Normalize([0.485, 0.456, 0.406],\n",
    "                                          [0.229, 0.224, 0.225])\n",
    "train_dataset = ChestXrayDataSet(data_dir=DATA_DIR,\n",
    "                                image_list_file=TEST_IMAGE_LIST,\n",
    "                                transform=transforms.Compose([transforms.RandomResizedCrop(224),\n",
    "                                    transforms.RandomHorizontalFlip(),\n",
    "                                    transforms.ToTensor(),\n",
    "                                    normalize\n",
    "                            ]))\n",
    "val_dataset = ChestXrayDataSet(data_dir=DATA_DIR,\n",
    "                                image_list_file=VAL_IMAGE_LIST,\n",
    "                                transform=transforms.Compose([\n",
    "                                    transforms.Resize(256),\n",
    "                                    transforms.TenCrop(224),\n",
    "                                    transforms.Lambda\n",
    "                                    (lambda crops: torch.stack([transforms.ToTensor()(crop) for crop in crops])),\n",
    "                                    transforms.Lambda\n",
    "                                    (lambda crops: torch.stack([normalize(crop) for crop in crops]))\n",
    "                                ]))\n",
    "\n",
    "test_dataset = ChestXrayDataSet(data_dir=DATA_DIR,\n",
    "                                image_list_file=TEST_IMAGE_LIST,\n",
    "                                transform=transforms.Compose([\n",
    "                                    transforms.Resize(256),\n",
    "                                    transforms.TenCrop(224),\n",
    "                                    transforms.Lambda\n",
    "                                    (lambda crops: torch.stack([transforms.ToTensor()(crop) for crop in crops])),\n",
    "                                    transforms.Lambda\n",
    "                                    (lambda crops: torch.stack([normalize(crop) for crop in crops]))\n",
    "                                ]))\n",
    "\n",
    "train_loader = DataLoader(dataset=train_dataset, batch_size=BATCH_SIZE,\n",
    "                             shuffle=True, num_workers=80, pin_memory=True)\n",
    "\n",
    "val_loader = DataLoader(dataset=val_dataset, batch_size=BATCH_SIZE,\n",
    "                             shuffle=False, num_workers=80, pin_memory=True)\n",
    "\n",
    "test_loader = DataLoader(dataset=test_dataset, batch_size=BATCH_SIZE,\n",
    "                             shuffle=False, num_workers=80, pin_memory=True)\n"
   ]
  },
  {
   "cell_type": "markdown",
   "id": "b4b058f8-817a-4115-b614-5e5b4b1585ad",
   "metadata": {},
   "source": [
    "## Training Set"
   ]
  },
  {
   "cell_type": "code",
   "execution_count": 22,
   "id": "46675933-b526-4a98-93e9-eab8c0501d17",
   "metadata": {},
   "outputs": [
    {
     "data": {
      "text/plain": [
       "['Infiltration\\nPneumothorax', '', '', 'Atelectasis']"
      ]
     },
     "execution_count": 22,
     "metadata": {},
     "output_type": "execute_result"
    }
   ],
   "source": [
    "[f'\\n'.join([CLASS_NAMES[i] for i,exist in enumerate(yi) if exist]) for yi in y]"
   ]
  },
  {
   "cell_type": "code",
   "execution_count": 37,
   "id": "7c530041-be71-4e59-8b23-0d9265217786",
   "metadata": {},
   "outputs": [
    {
     "data": {
      "text/plain": [
       "1"
      ]
     },
     "execution_count": 37,
     "metadata": {},
     "output_type": "execute_result"
    }
   ],
   "source": [
    "len(X.split(4))"
   ]
  },
  {
   "cell_type": "code",
   "execution_count": 32,
   "id": "bb83d2b2-f766-45d4-a993-8ba38bb30764",
   "metadata": {},
   "outputs": [
    {
     "name": "stdout",
     "output_type": "stream",
     "text": [
      "CPU times: user 3 µs, sys: 4 µs, total: 7 µs\n",
      "Wall time: 11.4 µs\n"
     ]
    },
    {
     "ename": "RuntimeError",
     "evalue": "number of dims don't match in permute",
     "output_type": "error",
     "traceback": [
      "\u001b[0;31m---------------------------------------------------------------------------\u001b[0m",
      "\u001b[0;31mRuntimeError\u001b[0m                              Traceback (most recent call last)",
      "\u001b[0;32m<ipython-input-32-8fb60ed252f1>\u001b[0m in \u001b[0;36m<module>\u001b[0;34m\u001b[0m\n\u001b[1;32m      7\u001b[0m \u001b[0;34m\u001b[0m\u001b[0m\n\u001b[1;32m      8\u001b[0m \u001b[0;31m# plt.imshow(grid.permute(1,2,0))\u001b[0m\u001b[0;34m\u001b[0m\u001b[0;34m\u001b[0m\u001b[0;34m\u001b[0m\u001b[0m\n\u001b[0;32m----> 9\u001b[0;31m show_image_column(X.split(X.shape[0], dim=0)[0], \n\u001b[0m\u001b[1;32m     10\u001b[0m                   [f'\\n'.join([CLASS_NAMES[i] for i,exist in enumerate(yi) if exist]) for yi in y])\n",
      "\u001b[0;32m/data/theory/robustopt/hadi/src/robustness/robustness/tools/vis_tools.py\u001b[0m in \u001b[0;36mshow_image_column\u001b[0;34m(xlist, ylist, fontsize, size, tlist, filename)\u001b[0m\n\u001b[1;32m     41\u001b[0m         \u001b[0;32mfor\u001b[0m \u001b[0mh\u001b[0m \u001b[0;32min\u001b[0m \u001b[0mrange\u001b[0m\u001b[0;34m(\u001b[0m\u001b[0mH\u001b[0m\u001b[0;34m)\u001b[0m\u001b[0;34m:\u001b[0m\u001b[0;34m\u001b[0m\u001b[0;34m\u001b[0m\u001b[0m\n\u001b[1;32m     42\u001b[0m             \u001b[0max\u001b[0m \u001b[0;34m=\u001b[0m \u001b[0mget_axis\u001b[0m\u001b[0;34m(\u001b[0m\u001b[0maxarr\u001b[0m\u001b[0;34m,\u001b[0m \u001b[0mH\u001b[0m\u001b[0;34m,\u001b[0m \u001b[0mW\u001b[0m\u001b[0;34m,\u001b[0m \u001b[0mh\u001b[0m\u001b[0;34m,\u001b[0m \u001b[0mw\u001b[0m\u001b[0;34m)\u001b[0m\u001b[0;34m\u001b[0m\u001b[0;34m\u001b[0m\u001b[0m\n\u001b[0;32m---> 43\u001b[0;31m             \u001b[0max\u001b[0m\u001b[0;34m.\u001b[0m\u001b[0mimshow\u001b[0m\u001b[0;34m(\u001b[0m\u001b[0mxlist\u001b[0m\u001b[0;34m[\u001b[0m\u001b[0mw\u001b[0m\u001b[0;34m]\u001b[0m\u001b[0;34m[\u001b[0m\u001b[0mh\u001b[0m\u001b[0;34m]\u001b[0m\u001b[0;34m.\u001b[0m\u001b[0mpermute\u001b[0m\u001b[0;34m(\u001b[0m\u001b[0;36m1\u001b[0m\u001b[0;34m,\u001b[0m \u001b[0;36m2\u001b[0m\u001b[0;34m,\u001b[0m \u001b[0;36m0\u001b[0m\u001b[0;34m)\u001b[0m\u001b[0;34m)\u001b[0m\u001b[0;34m\u001b[0m\u001b[0;34m\u001b[0m\u001b[0m\n\u001b[0m\u001b[1;32m     44\u001b[0m             \u001b[0max\u001b[0m\u001b[0;34m.\u001b[0m\u001b[0mxaxis\u001b[0m\u001b[0;34m.\u001b[0m\u001b[0mset_ticks\u001b[0m\u001b[0;34m(\u001b[0m\u001b[0;34m[\u001b[0m\u001b[0;34m]\u001b[0m\u001b[0;34m)\u001b[0m\u001b[0;34m\u001b[0m\u001b[0;34m\u001b[0m\u001b[0m\n\u001b[1;32m     45\u001b[0m             \u001b[0max\u001b[0m\u001b[0;34m.\u001b[0m\u001b[0myaxis\u001b[0m\u001b[0;34m.\u001b[0m\u001b[0mset_ticks\u001b[0m\u001b[0;34m(\u001b[0m\u001b[0;34m[\u001b[0m\u001b[0;34m]\u001b[0m\u001b[0;34m)\u001b[0m\u001b[0;34m\u001b[0m\u001b[0;34m\u001b[0m\u001b[0m\n",
      "\u001b[0;31mRuntimeError\u001b[0m: number of dims don't match in permute"
     ]
    },
    {
     "data": {
      "image/png": "[encoded data removed]",
      "text/plain": [
       "<Figure size 720x540 with 12 Axes>"
      ]
     },
     "metadata": {
      "needs_background": "light"
     },
     "output_type": "display_data"
    }
   ],
   "source": [
    "%time\n",
    "# # _, (X,y) = next(enumerate(train_loader))\n",
    "# _, (X,y) = next(enumerate(train_loader))\n",
    "\n",
    "# plt.figure(figsize=(20,10))\n",
    "# grid = torchvision.utils.make_grid(X, nrow=8)\n",
    "\n",
    "# plt.imshow(grid.permute(1,2,0))\n",
    "show_image_column(X.split(X.shape[0], dim=0)[0], \n",
    "                  [f'\\n'.join([CLASS_NAMES[i] for i,exist in enumerate(yi) if exist]) for yi in y])\n"
   ]
  },
  {
   "cell_type": "code",
   "execution_count": 19,
   "id": "719d42a8-5c19-4773-a4dd-72f97c81d680",
   "metadata": {},
   "outputs": [
    {
     "data": {
      "text/plain": [
       "tensor([[0., 0., 0., 0., 0., 0., 0., 0., 0., 0., 0., 0., 0., 0.],\n",
       "        [0., 0., 0., 1., 0., 0., 0., 1., 0., 0., 0., 0., 0., 0.],\n",
       "        [1., 0., 0., 1., 0., 0., 0., 0., 0., 0., 0., 0., 0., 0.],\n",
       "        [0., 0., 0., 0., 1., 0., 0., 0., 0., 0., 0., 0., 0., 0.]])"
      ]
     },
     "execution_count": 19,
     "metadata": {},
     "output_type": "execute_result"
    }
   ],
   "source": [
    "y"
   ]
  },
  {
   "cell_type": "code",
   "execution_count": 10,
   "id": "f5dd89b7-7816-4943-b974-1678d8fd21a7",
   "metadata": {},
   "outputs": [
    {
     "data": {
      "text/plain": [
       "torch.Size([4, 3, 224, 224])"
      ]
     },
     "execution_count": 10,
     "metadata": {},
     "output_type": "execute_result"
    }
   ],
   "source": [
    "X.shape"
   ]
  },
  {
   "cell_type": "markdown",
   "id": "0708d5ff-8f95-4f2d-a7ce-f998ab3569c4",
   "metadata": {},
   "source": [
    "# Validation Set"
   ]
  },
  {
   "cell_type": "code",
   "execution_count": null,
   "id": "f8024edf-0759-4204-b0ad-329e68aa39c7",
   "metadata": {},
   "outputs": [],
   "source": [
    "%time\n",
    "# _, (X,y) = next(enumerate(train_loader))\n",
    "_, (X,y) = next(enumerate(train_loader))\n",
    "\n",
    "plt.figure(figsize=(20,10))\n",
    "grid = torchvision.utils.make_grid(X, nrow=8)\n",
    "\n",
    "plt.imshow(grid.permute(1,2,0))"
   ]
  }
 ],
 "metadata": {
  "kernelspec": {
   "display_name": "Python 3",
   "language": "python",
   "name": "python3"
  },
  "language_info": {
   "codemirror_mode": {
    "name": "ipython",
    "version": 3
   },
   "file_extension": ".py",
   "mimetype": "text/x-python",
   "name": "python",
   "nbconvert_exporter": "python",
   "pygments_lexer": "ipython3",
   "version": "3.8.5"
  }
 },
 "nbformat": 4,
 "nbformat_minor": 5
}
